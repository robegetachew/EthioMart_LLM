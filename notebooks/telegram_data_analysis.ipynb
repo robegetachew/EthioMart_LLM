{
 "cells": [
  {
   "cell_type": "code",
   "execution_count": 1,
   "metadata": {},
   "outputs": [],
   "source": [
    "import os\n",
    "import pandas as pd\n",
    "import asyncio"
   ]
  },
  {
   "cell_type": "code",
   "execution_count": 2,
   "metadata": {},
   "outputs": [],
   "source": [
    "import sys\n",
    "sys.path.append(r'C:\\Users\\user\\Desktop\\Kifiya\\EthioMart_LLM\\scripts')\n",
    "\n",
    "import telegram_scrapper as ts"
   ]
  },
  {
   "cell_type": "code",
   "execution_count": 3,
   "metadata": {},
   "outputs": [],
   "source": [
    "channels = [\n",
    "    '@Shageronlinestore',\n",
    "    '@ZemenExpress',\n",
    "    '@nevacomputer',\n",
    "    '@Shewabrand',\n",
    "    '@helloomarketethiopia'\n",
    "]"
   ]
  },
  {
   "cell_type": "code",
   "execution_count": 4,
   "metadata": {},
   "outputs": [],
   "source": [
    "# Define the scraping task\n",
    "async def scrape_telegram_data():\n",
    "    scraper = ts.TelegramScraper()\n",
    "    await scraper.run(channels, output_csv='channel_data.csv', media_dir='channel_media')"
   ]
  },
  {
   "cell_type": "code",
   "execution_count": 4,
   "metadata": {},
   "outputs": [
    {
     "name": "stdout",
     "output_type": "stream",
     "text": [
      "Scraped Amharic messages from @Shageronlinestore\n",
      "Scraped Amharic messages from @ZemenExpress\n",
      "Scraped Amharic messages from @nevacomputer\n",
      "Scraped Amharic messages from @Shewabrand\n",
      "Scraped Amharic messages from @helloomarketethiopia\n"
     ]
    }
   ],
   "source": [
    "import nest_asyncio\n",
    "#loop = asyncio.get_running_loop()\n",
    "scraper = ts.TelegramScraper()\n",
    "await scraper.run(channels, limit=200)"
   ]
  },
  {
   "cell_type": "code",
   "execution_count": 5,
   "metadata": {},
   "outputs": [
    {
     "ename": "AttributeError",
     "evalue": "'TelegramScraper' object has no attribute 'get_data'",
     "output_type": "error",
     "traceback": [
      "\u001b[1;31m---------------------------------------------------------------------------\u001b[0m",
      "\u001b[1;31mAttributeError\u001b[0m                            Traceback (most recent call last)",
      "Cell \u001b[1;32mIn[5], line 1\u001b[0m\n\u001b[1;32m----> 1\u001b[0m raw_data \u001b[38;5;241m=\u001b[39m \u001b[43mscraper\u001b[49m\u001b[38;5;241;43m.\u001b[39;49m\u001b[43mget_data\u001b[49m()\n",
      "\u001b[1;31mAttributeError\u001b[0m: 'TelegramScraper' object has no attribute 'get_data'"
     ]
    }
   ],
   "source": [
    "raw_data = scraper.get_data()"
   ]
  },
  {
   "cell_type": "markdown",
   "metadata": {},
   "source": [
    "Implement a Real-Time Message Ingestion System"
   ]
  },
  {
   "cell_type": "code",
   "execution_count": null,
   "metadata": {},
   "outputs": [],
   "source": []
  }
 ],
 "metadata": {
  "kernelspec": {
   "display_name": "etvenv",
   "language": "python",
   "name": "python3"
  },
  "language_info": {
   "codemirror_mode": {
    "name": "ipython",
    "version": 3
   },
   "file_extension": ".py",
   "mimetype": "text/x-python",
   "name": "python",
   "nbconvert_exporter": "python",
   "pygments_lexer": "ipython3",
   "version": "3.12.2"
  }
 },
 "nbformat": 4,
 "nbformat_minor": 2
}
